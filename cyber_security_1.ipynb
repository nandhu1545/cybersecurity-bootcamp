{
  "nbformat": 4,
  "nbformat_minor": 0,
  "metadata": {
    "colab": {
      "name": "cyber security 1.ipynb",
      "provenance": []
    },
    "kernelspec": {
      "name": "python3",
      "display_name": "Python 3"
    },
    "language_info": {
      "name": "python"
    }
  },
  "cells": [
    {
      "cell_type": "code",
      "metadata": {
        "colab": {
          "base_uri": "https://localhost:8080/"
        },
        "id": "Gy74DQaxFr6L",
        "outputId": "2634808b-0edc-4423-c37e-3f607f9db017"
      },
      "source": [
        "import requests #import as \n",
        "from datetime import datetime\n",
        "\n",
        "api_key ='a793793e63b47265705c6551198bbb60'\n",
        "location=input (\"Enter the city name:\")\n",
        "complete_api_link=\"https://api.openweathermap.org/data/2.5/weather?q=\"+location+\"&appid=\"+api_key\n",
        "api_link= requests.get(complete_api_link)\n",
        "api_data =api_link.json()\n",
        "\n",
        "#create variables to store and display data\n",
        "temp_city =((api_data['main']['temp'])-273.15)\n",
        "weather_desc =api_data['weather'][0]['description']\n",
        "hmdt =api_data['main']['humidity']\n",
        "wind_spd =api_data['wind']['speed']\n",
        "date_time=datetime.now().strftime(\"%d %b %Y| %I:%M:%S %p\")\n",
        "\n",
        "\n",
        "print (\"------------------------------------------------------------\")\n",
        "print (\"Weather Stats for -{} || {}\".format(location.upper(), date_time))\n",
        "print (\"----------------------------------------------------------\")\n",
        "\n",
        "\n",
        "print (\"Current temperature is :{:.2f} deg C\".format(temp_city))\n",
        "print (\"Current weather desc :\",weather_desc)\n",
        "print (\"Current Humidity      :\", hmdt,'%')\n",
        "print (\"Current wind speed     :\",wind_spd ,'kmph')"
      ],
      "execution_count": 5,
      "outputs": [
        {
          "output_type": "stream",
          "text": [
            "Enter the city name:bangalore\n",
            "------------------------------------------------------------\n",
            "Weather Stats for -BANGALORE || 22 Jun 2021| 05:30:22 AM\n",
            "----------------------------------------------------------\n",
            "Current temperature is :26.77 deg C\n",
            "Current weather desc : scattered clouds\n",
            "Current Humidity      : 61 %\n",
            "Current wind speed     : 4.12 kmph\n"
          ],
          "name": "stdout"
        }
      ]
    }
  ]
}