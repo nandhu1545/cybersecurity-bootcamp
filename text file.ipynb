{
  "nbformat": 4,
  "nbformat_minor": 0,
  "metadata": {
    "colab": {
      "name": "Untitled5.ipynb",
      "provenance": []
    },
    "kernelspec": {
      "name": "python3",
      "display_name": "Python 3"
    },
    "language_info": {
      "name": "python"
    }
  },
  "cells": [
    {
      "cell_type": "code",
      "metadata": {
        "id": "FqvqVFsX4Ac-"
      },
      "source": [
        "import requests\n",
        "\n",
        "r = requests.get('https://api.openweathermap.org/data/2.5/weather?q=bangalore&appid=a793793e63b47265705c6551198bbb60.txt')\n",
        "\n",
        "with open('weather.txt','wb') as f:\n",
        "      f.write(r.content)"
      ],
      "execution_count": null,
      "outputs": []
    }
  ]
}